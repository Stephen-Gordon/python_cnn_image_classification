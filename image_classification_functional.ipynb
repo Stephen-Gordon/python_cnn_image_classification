{
  "nbformat": 4,
  "nbformat_minor": 0,
  "metadata": {
    "colab": {
      "provenance": [],
      "gpuType": "T4",
      "authorship_tag": "ABX9TyM4wFoH+PpaAdvk9+uqh5Im",
      "include_colab_link": true
    },
    "kernelspec": {
      "name": "python3",
      "display_name": "Python 3"
    },
    "language_info": {
      "name": "python"
    },
    "accelerator": "GPU"
  },
  "cells": [
    {
      "cell_type": "markdown",
      "metadata": {
        "id": "view-in-github",
        "colab_type": "text"
      },
      "source": [
        "<a href=\"https://colab.research.google.com/github/Stephen-Gordon/python_cnn_image_classification/blob/main/image_classification_functional.ipynb\" target=\"_parent\"><img src=\"https://colab.research.google.com/assets/colab-badge.svg\" alt=\"Open In Colab\"/></a>"
      ]
    },
    {
      "cell_type": "code",
      "execution_count": 1,
      "metadata": {
        "id": "J9fUVQ_0Xg54"
      },
      "outputs": [],
      "source": [
        "# Import TensorFlow\n",
        "import tensorflow as tf\n",
        "from tensorflow import keras\n",
        "from keras import datasets, layers, models\n",
        "import matplotlib.pyplot as plt\n",
        "import numpy as np\n"
      ]
    },
    {
      "cell_type": "code",
      "source": [
        "\n",
        "#https://www.cs.toronto.edu/~kriz/cifar.html\n",
        "(train_images, train_labels), (test_images, test_labels) = datasets.cifar10.load_data()\n",
        "\n",
        "# Normalize pixel values to be between 0 and 1\n",
        "train_images, test_images = train_images / 255.0, test_images / 255.0\n"
      ],
      "metadata": {
        "id": "Q3h2u5k5Xx08",
        "outputId": "f1d48be9-7f4e-47e9-d8cc-f9ee5fb33267",
        "colab": {
          "base_uri": "https://localhost:8080/"
        }
      },
      "execution_count": 2,
      "outputs": [
        {
          "output_type": "stream",
          "name": "stdout",
          "text": [
            "Downloading data from https://www.cs.toronto.edu/~kriz/cifar-10-python.tar.gz\n",
            "170498071/170498071 [==============================] - 14s 0us/step\n"
          ]
        }
      ]
    },
    {
      "cell_type": "code",
      "source": [
        "data_augmentation = keras.Sequential(\n",
        "    [\n",
        "        layers.RandomFlip(\"horizontal\"),\n",
        "        layers.RandomRotation(0.1),\n",
        "        layers.RandomZoom(0.2),\n",
        "    ]\n",
        ")"
      ],
      "metadata": {
        "id": "Bfwq-7KfeEsb"
      },
      "execution_count": null,
      "outputs": []
    },
    {
      "cell_type": "markdown",
      "source": [
        "# Base Model\n"
      ],
      "metadata": {
        "id": "lcSoOGgPvN43"
      }
    },
    {
      "cell_type": "code",
      "source": [
        "x = inputs = keras.Input(shape=(32, 32, 3))\n",
        "\n",
        "x = layers.Conv2D(filters=32, kernel_size=3, activation=\"relu\")(x)\n",
        "x = layers.MaxPooling2D(pool_size=2)(x)\n",
        "\n",
        "x = layers.Conv2D(filters=64, kernel_size=3, activation=\"relu\")(x)\n",
        "x = layers.MaxPooling2D(pool_size=2)(x)\n",
        "\n",
        "x = layers.Conv2D(filters=64, kernel_size=3, activation=\"relu\")(x)\n",
        "\n",
        "x = layers.Flatten()(x)\n",
        "x = layers.Dense(64, activation=\"relu\")(x)\n",
        "x = layers.Dense(10)(x)\n",
        "\n",
        "\n",
        "outputs = x\n",
        "model = keras.Model(inputs=inputs, outputs=outputs)\n"
      ],
      "metadata": {
        "id": "69h22CCUXyc3"
      },
      "execution_count": null,
      "outputs": []
    },
    {
      "cell_type": "markdown",
      "source": [
        "# with dropout after each pooling layer\n",
        "\n",
        "# 3 dropout layers"
      ],
      "metadata": {
        "id": "zYOLGEUIvRoR"
      }
    },
    {
      "cell_type": "code",
      "source": [
        "######\n",
        "# with dropout after each pooling layer\n",
        "######\n",
        "# 3 dropout layers\n",
        "\n",
        "x = inputs = keras.Input(shape=(32, 32, 3))\n",
        "\n",
        "#1\n",
        "x = layers.Conv2D(filters=32, kernel_size=3, activation=\"relu\")(x)\n",
        "x = layers.MaxPooling2D(pool_size=2)(x)\n",
        "x = layers.Dropout(0.25)(x)\n",
        "\n",
        "#2\n",
        "x = layers.Conv2D(filters=64, kernel_size=3, activation=\"relu\")(x)\n",
        "x = layers.MaxPooling2D(pool_size=2)(x)\n",
        "x = layers.Dropout(0.25)(x)\n",
        "\n",
        "#3\n",
        "x = layers.Conv2D(filters=64, kernel_size=3, activation=\"relu\")(x)\n",
        "\n",
        "x = layers.Flatten()(x)\n",
        "x = layers.Dense(64, activation=\"relu\")(x)\n",
        "x = layers.Dropout(0.25)(x)\n",
        "\n",
        "x = layers.Dense(10)(x)\n",
        "\n",
        "\n",
        "outputs = x\n",
        "model = keras.Model(inputs=inputs, outputs=outputs)\n"
      ],
      "metadata": {
        "id": "B-dkr-PIvvME"
      },
      "execution_count": null,
      "outputs": []
    },
    {
      "cell_type": "markdown",
      "source": [
        "\n",
        "#dropout after each pooling layer\n",
        "\n",
        "# 2 dropout layers\n",
        "\n",
        "\n",
        "> Indented block\n",
        "\n"
      ],
      "metadata": {
        "id": "oV6Btp4nvW18"
      }
    },
    {
      "cell_type": "code",
      "source": [
        "######\n",
        "# dropout after each pooling layer\n",
        "######\n",
        "# 2 dropout layers\n",
        "\n",
        "x = inputs = keras.Input(shape=(32, 32, 3))\n",
        "\n",
        "#1\n",
        "x = layers.Conv2D(filters=32, kernel_size=3, activation=\"relu\")(x)\n",
        "x = layers.MaxPooling2D(pool_size=2)(x)\n",
        "x = layers.Dropout(0.25)(x)\n",
        "\n",
        "#2\n",
        "x = layers.Conv2D(filters=64, kernel_size=3, activation=\"relu\")(x)\n",
        "x = layers.MaxPooling2D(pool_size=2)(x)\n",
        "x = layers.Dropout(0.25)(x)\n",
        "\n",
        "#3\n",
        "x = layers.Conv2D(filters=64, kernel_size=3, activation=\"relu\")(x)\n",
        "\n",
        "x = layers.Flatten()(x)\n",
        "x = layers.Dense(64, activation=\"relu\")(x)\n",
        "\n",
        "\n",
        "x = layers.Dense(10)(x)\n",
        "\n",
        "\n",
        "outputs = x\n",
        "model = keras.Model(inputs=inputs, outputs=outputs)\n"
      ],
      "metadata": {
        "id": "npEVZDT6rA__"
      },
      "execution_count": null,
      "outputs": []
    },
    {
      "cell_type": "markdown",
      "source": [
        "# dropout after each pooling layer\n",
        "# 2 dropout layers\n",
        "# increased drop out to 0.5"
      ],
      "metadata": {
        "id": "g7fLm1mcvji0"
      }
    },
    {
      "cell_type": "code",
      "source": [
        "######\n",
        "# dropout after each pooling layer\n",
        "######\n",
        "# 2 dropout layers\n",
        "# Increased drop out to 0.5\n",
        "\n",
        "x = inputs = keras.Input(shape=(32, 32, 3))\n",
        "\n",
        "#1\n",
        "x = layers.Conv2D(filters=32, kernel_size=3, activation=\"relu\")(x)\n",
        "x = layers.MaxPooling2D(pool_size=2)(x)\n",
        "x = layers.Dropout(0.5)(x)\n",
        "\n",
        "#2\n",
        "x = layers.Conv2D(filters=64, kernel_size=3, activation=\"relu\")(x)\n",
        "x = layers.MaxPooling2D(pool_size=2)(x)\n",
        "x = layers.Dropout(0.5)(x)\n",
        "\n",
        "#3\n",
        "x = layers.Conv2D(filters=64, kernel_size=3, activation=\"relu\")(x)\n",
        "\n",
        "x = layers.Flatten()(x)\n",
        "x = layers.Dense(64, activation=\"relu\")(x)\n",
        "\n",
        "\n",
        "x = layers.Dense(10)(x)\n",
        "\n",
        "\n",
        "outputs = x\n",
        "model = keras.Model(inputs=inputs, outputs=outputs)\n"
      ],
      "metadata": {
        "id": "S_AXHmzuvFCq"
      },
      "execution_count": null,
      "outputs": []
    },
    {
      "cell_type": "markdown",
      "source": [
        "\n",
        "# dropout at the end\n",
        "\n",
        "# 1 dropout layers of 0.25"
      ],
      "metadata": {
        "id": "2nVdw3xzvpob"
      }
    },
    {
      "cell_type": "code",
      "source": [
        "######\n",
        "# dropout at the end\n",
        "######\n",
        "# 1 dropout layers\n",
        "\n",
        "x = inputs = keras.Input(shape=(32, 32, 3))\n",
        "\n",
        "#1\n",
        "x = layers.Conv2D(filters=32, kernel_size=3, activation=\"relu\")(x)\n",
        "x = layers.MaxPooling2D(pool_size=2)(x)\n",
        "\n",
        "#2\n",
        "x = layers.Conv2D(filters=64, kernel_size=3, activation=\"relu\")(x)\n",
        "x = layers.MaxPooling2D(pool_size=2)(x)\n",
        "\n",
        "#3\n",
        "x = layers.Conv2D(filters=64, kernel_size=3, activation=\"relu\")(x)\n",
        "\n",
        "x = layers.Flatten()(x)\n",
        "x = layers.Dense(64, activation=\"relu\")(x)\n",
        "\n",
        "x = layers.Dropout(0.25)(x)\n",
        "x = layers.Dense(10)(x)\n",
        "\n",
        "\n",
        "outputs = x\n",
        "model = keras.Model(inputs=inputs, outputs=outputs)\n"
      ],
      "metadata": {
        "id": "1d6hg-IzsRg3"
      },
      "execution_count": null,
      "outputs": []
    },
    {
      "cell_type": "markdown",
      "source": [
        "\n",
        "# dropout at the end\n",
        "\n",
        "# 1 dropout layers of 0.5"
      ],
      "metadata": {
        "id": "vohbNhCxv8CA"
      }
    },
    {
      "cell_type": "code",
      "source": [
        "######\n",
        "# dropout at the end\n",
        "######\n",
        "# 1 dropout layers\n",
        "# increase the drop out ot 0.5\n",
        "\n",
        "x = inputs = keras.Input(shape=(32, 32, 3))\n",
        "\n",
        "#1\n",
        "x = layers.Conv2D(filters=32, kernel_size=3, activation=\"relu\")(x)\n",
        "x = layers.MaxPooling2D(pool_size=2)(x)\n",
        "\n",
        "#2\n",
        "x = layers.Conv2D(filters=64, kernel_size=3, activation=\"relu\")(x)\n",
        "x = layers.MaxPooling2D(pool_size=2)(x)\n",
        "\n",
        "#3\n",
        "x = layers.Conv2D(filters=64, kernel_size=3, activation=\"relu\")(x)\n",
        "\n",
        "x = layers.Flatten()(x)\n",
        "x = layers.Dense(64, activation=\"relu\")(x)\n",
        "\n",
        "x = layers.Dropout(0.5)(x)\n",
        "x = layers.Dense(10)(x)\n",
        "\n",
        "\n",
        "outputs = x\n",
        "model = keras.Model(inputs=inputs, outputs=outputs)\n"
      ],
      "metadata": {
        "id": "cXqFdU_DtuWt"
      },
      "execution_count": null,
      "outputs": []
    },
    {
      "cell_type": "markdown",
      "source": [
        "# No dropout\n",
        "# 1 augmentation layer\n",
        "# too much augmentation"
      ],
      "metadata": {
        "id": "WRqNYo3jyG6l"
      }
    },
    {
      "cell_type": "code",
      "source": [
        "data_augmentation = keras.Sequential(\n",
        "    [\n",
        "        layers.RandomFlip(\"horizontal\"),\n",
        "        layers.RandomRotation(0.1),\n",
        "        layers.RandomZoom(0.2),\n",
        "    ]\n",
        ")\n",
        "\n",
        "x = inputs = keras.Input(shape=(32, 32, 3))\n",
        "# 1\n",
        "# Augmentation Layer\n",
        "x = data_augmentation(inputs)\n",
        "# 2\n",
        "x = layers.Conv2D(filters=32, kernel_size=3, activation=\"relu\")(x)\n",
        "x = layers.MaxPooling2D(pool_size=2)(x)\n",
        "# 3\n",
        "x = layers.Conv2D(filters=64, kernel_size=3, activation=\"relu\")(x)\n",
        "x = layers.MaxPooling2D(pool_size=2)(x)\n",
        "# 4\n",
        "x = layers.Conv2D(filters=64, kernel_size=3, activation=\"relu\")(x)\n",
        "\n",
        "x = layers.Flatten()(x)\n",
        "x = layers.Dense(64, activation=\"relu\")(x)\n",
        "x = layers.Dense(10)(x)\n",
        "\n",
        "\n",
        "outputs = x\n",
        "model = keras.Model(inputs=inputs, outputs=outputs)\n"
      ],
      "metadata": {
        "id": "Sadoy_SUyKxl"
      },
      "execution_count": null,
      "outputs": []
    },
    {
      "cell_type": "markdown",
      "source": [
        "# Augmentation with no rotation"
      ],
      "metadata": {
        "id": "GlCa-FD12Bvo"
      }
    },
    {
      "cell_type": "code",
      "source": [
        "\n",
        "data_augmentation = keras.Sequential(\n",
        "    [\n",
        "        layers.RandomFlip(\"horizontal\"),\n",
        "        layers.RandomZoom(0.2),\n",
        "    ]\n",
        ")\n",
        "\n",
        "x = inputs = keras.Input(shape=(32, 32, 3))\n",
        "# 1\n",
        "# Augmentation Layer\n",
        "x = data_augmentation(inputs)\n",
        "# 2\n",
        "x = layers.Conv2D(filters=32, kernel_size=3, activation=\"relu\")(x)\n",
        "x = layers.MaxPooling2D(pool_size=2)(x)\n",
        "# 3\n",
        "x = layers.Conv2D(filters=64, kernel_size=3, activation=\"relu\")(x)\n",
        "x = layers.MaxPooling2D(pool_size=2)(x)\n",
        "# 4\n",
        "x = layers.Conv2D(filters=64, kernel_size=3, activation=\"relu\")(x)\n",
        "\n",
        "x = layers.Flatten()(x)\n",
        "x = layers.Dense(64, activation=\"relu\")(x)\n",
        "x = layers.Dense(10)(x)\n",
        "\n",
        "\n",
        "outputs = x\n",
        "model = keras.Model(inputs=inputs, outputs=outputs)\n"
      ],
      "metadata": {
        "id": "yw3mYhgW1qS_"
      },
      "execution_count": null,
      "outputs": []
    },
    {
      "cell_type": "markdown",
      "source": [
        "Augmentation with width and height shift"
      ],
      "metadata": {
        "id": "rRvvGmTz55-x"
      }
    },
    {
      "cell_type": "code",
      "source": [
        "\n",
        "data_augmentation = keras.Sequential(\n",
        "    [\n",
        "        layers.RandomTranslation(height_factor=(-0.1, 0.1), width_factor=(-0.1, 0.1)),\n",
        "\n",
        "    ]\n",
        ")\n",
        "\n",
        "x = inputs = keras.Input(shape=(32, 32, 3))\n",
        "# 1\n",
        "# Augmentation Layer\n",
        "x = data_augmentation(inputs)\n",
        "# 2\n",
        "x = layers.Conv2D(filters=32, kernel_size=3, activation=\"relu\")(x)\n",
        "x = layers.MaxPooling2D(pool_size=2)(x)\n",
        "# 3\n",
        "x = layers.Conv2D(filters=64, kernel_size=3, activation=\"relu\")(x)\n",
        "x = layers.MaxPooling2D(pool_size=2)(x)\n",
        "# 4\n",
        "x = layers.Conv2D(filters=64, kernel_size=3, activation=\"relu\")(x)\n",
        "\n",
        "x = layers.Flatten()(x)\n",
        "x = layers.Dense(64, activation=\"relu\")(x)\n",
        "x = layers.Dense(10)(x)\n",
        "\n",
        "\n",
        "outputs = x\n",
        "model = keras.Model(inputs=inputs, outputs=outputs)\n"
      ],
      "metadata": {
        "id": "9kE9ygBL41wq"
      },
      "execution_count": null,
      "outputs": []
    },
    {
      "cell_type": "markdown",
      "source": [
        "# Augmentation with width, height, flip, zoom\n",
        "# Lower Accuracy, too much augmentation\n"
      ],
      "metadata": {
        "id": "_v7te86Q6I0c"
      }
    },
    {
      "cell_type": "code",
      "source": [
        "data_augmentation = keras.Sequential(\n",
        "    [\n",
        "        layers.RandomFlip(\"horizontal\"),\n",
        "        layers.RandomZoom(0.1),\n",
        "        layers.RandomTranslation(height_factor=(-0.1, 0.1), width_factor=(-0.1, 0.1)),\n",
        "\n",
        "    ]\n",
        ")\n",
        "\n",
        "x = inputs = keras.Input(shape=(32, 32, 3))\n",
        "# 1\n",
        "# Augmentation Layer\n",
        "x = data_augmentation(inputs)\n",
        "# 2\n",
        "x = layers.Conv2D(filters=32, kernel_size=3, activation=\"relu\")(x)\n",
        "x = layers.MaxPooling2D(pool_size=2)(x)\n",
        "# 3\n",
        "x = layers.Conv2D(filters=64, kernel_size=3, activation=\"relu\")(x)\n",
        "x = layers.MaxPooling2D(pool_size=2)(x)\n",
        "# 4\n",
        "x = layers.Conv2D(filters=64, kernel_size=3, activation=\"relu\")(x)\n",
        "\n",
        "x = layers.Flatten()(x)\n",
        "x = layers.Dense(64, activation=\"relu\")(x)\n",
        "x = layers.Dense(10)(x)\n",
        "\n",
        "\n",
        "outputs = x\n",
        "model = keras.Model(inputs=inputs, outputs=outputs)\n"
      ],
      "metadata": {
        "id": "6ZyR8ynl6Ngc"
      },
      "execution_count": null,
      "outputs": []
    },
    {
      "cell_type": "markdown",
      "source": [
        "# Augment the width/height & adding dropout layers\n",
        "# Still underfits: 73% accuracy"
      ],
      "metadata": {
        "id": "YysqCrRtadpQ"
      }
    },
    {
      "cell_type": "code",
      "source": [
        "data_augmentation = keras.Sequential(\n",
        "    [\n",
        "        layers.RandomTranslation(height_factor=(-0.1, 0.1), width_factor=(-0.1, 0.1)),\n",
        "\n",
        "    ]\n",
        ")\n",
        "\n",
        "x = inputs = keras.Input(shape=(32, 32, 3))\n",
        "# 1\n",
        "# Augmentation Layer\n",
        "x = data_augmentation(inputs)\n",
        "# 2\n",
        "x = layers.Conv2D(filters=32, kernel_size=3, activation=\"relu\")(x)\n",
        "x = layers.MaxPooling2D(pool_size=2)(x)\n",
        "x = layers.Dropout(0.25)(x)\n",
        "\n",
        "# 3\n",
        "x = layers.Conv2D(filters=64, kernel_size=3, activation=\"relu\")(x)\n",
        "x = layers.MaxPooling2D(pool_size=2)(x)\n",
        "x = layers.Dropout(0.25)(x)\n",
        "\n",
        "# 4\n",
        "x = layers.Conv2D(filters=64, kernel_size=3, activation=\"relu\")(x)\n",
        "\n",
        "x = layers.Flatten()(x)\n",
        "x = layers.Dense(64, activation=\"relu\")(x)\n",
        "x = layers.Dense(10)(x)\n",
        "\n",
        "\n",
        "outputs = x\n",
        "model = keras.Model(inputs=inputs, outputs=outputs)\n"
      ],
      "metadata": {
        "id": "Qg22f-8Z9qdo"
      },
      "execution_count": null,
      "outputs": []
    },
    {
      "cell_type": "markdown",
      "source": [
        "# 1 dropout layer with augmentation\n",
        "# underfits, 67% accuracy"
      ],
      "metadata": {
        "id": "FK_D8mgUpkkZ"
      }
    },
    {
      "cell_type": "code",
      "source": [
        "data_augmentation = keras.Sequential(\n",
        "    [\n",
        "        layers.RandomTranslation(height_factor=(-0.1, 0.1), width_factor=(-0.1, 0.1)),\n",
        "\n",
        "    ]\n",
        ")\n",
        "\n",
        "x = inputs = keras.Input(shape=(32, 32, 3))\n",
        "# 1\n",
        "# Augmentation Layer\n",
        "x = data_augmentation(inputs)\n",
        "# 2\n",
        "x = layers.Conv2D(filters=32, kernel_size=3, activation=\"relu\")(x)\n",
        "x = layers.MaxPooling2D(pool_size=2)(x)\n",
        "x = layers.Dropout(0.25)(x)\n",
        "\n",
        "# 3\n",
        "x = layers.Conv2D(filters=64, kernel_size=3, activation=\"relu\")(x)\n",
        "x = layers.MaxPooling2D(pool_size=2)(x)\n",
        "\n",
        "# 4\n",
        "x = layers.Conv2D(filters=64, kernel_size=3, activation=\"relu\")(x)\n",
        "\n",
        "x = layers.Flatten()(x)\n",
        "x = layers.Dense(64, activation=\"relu\")(x)\n",
        "x = layers.Dense(10)(x)\n",
        "\n",
        "\n",
        "outputs = x\n",
        "model = keras.Model(inputs=inputs, outputs=outputs)\n"
      ],
      "metadata": {
        "id": "4aIL4Ppy_ecU"
      },
      "execution_count": 5,
      "outputs": []
    },
    {
      "cell_type": "markdown",
      "source": [
        "# Overfits instantly\n",
        "# 73% accuracy"
      ],
      "metadata": {
        "id": "rRq9t0Y1tVG1"
      }
    },
    {
      "cell_type": "code",
      "source": [
        "# same baseline model but double up the layers\n",
        "\n",
        "x = inputs = keras.Input(shape=(32, 32, 3))\n",
        "\n",
        "x = layers.Conv2D(filters=32, kernel_size=3, activation=\"relu\")(x)\n",
        "x = layers.Conv2D(filters=32, kernel_size=3, activation=\"relu\")(x)\n",
        "\n",
        "x = layers.MaxPooling2D(pool_size=2)(x)\n",
        "\n",
        "x = layers.Conv2D(filters=64, kernel_size=3, activation=\"relu\")(x)\n",
        "x = layers.Conv2D(filters=64, kernel_size=3, activation=\"relu\")(x)\n",
        "\n",
        "x = layers.MaxPooling2D(pool_size=2)(x)\n",
        "\n",
        "#x = layers.Conv2D(filters=64, kernel_size=3, activation=\"relu\")(x)\n",
        "\n",
        "x = layers.Flatten()(x)\n",
        "x = layers.Dense(64, activation=\"relu\")(x)\n",
        "x = layers.Dense(10)(x)\n",
        "\n",
        "\n",
        "outputs = x\n",
        "model = keras.Model(inputs=inputs, outputs=outputs)\n"
      ],
      "metadata": {
        "id": "O-URONPqrGv1"
      },
      "execution_count": 3,
      "outputs": []
    },
    {
      "cell_type": "code",
      "source": [
        "# same baseline model but double up the layers\n",
        "# 72%\n",
        "x = inputs = keras.Input(shape=(32, 32, 3))\n",
        "\n",
        "x = layers.Conv2D(filters=32, kernel_size=3, activation=\"relu\")(x)\n",
        "x = layers.Conv2D(filters=32, kernel_size=3, activation=\"relu\")(x)\n",
        "\n",
        "x = layers.MaxPooling2D(pool_size=2)(x)\n",
        "\n",
        "x = layers.Conv2D(filters=64, kernel_size=3, activation=\"relu\")(x)\n",
        "x = layers.Conv2D(filters=64, kernel_size=3, activation=\"relu\")(x)\n",
        "\n",
        "x = layers.MaxPooling2D(pool_size=2)(x)\n",
        "\n",
        "# remove this layer\n",
        "#x = layers.Conv2D(filters=64, kernel_size=3, activation=\"relu\")(x)\n",
        "\n",
        "x = layers.Flatten()(x)\n",
        "x = layers.Dense(64, activation=\"relu\")(x)\n",
        "x = layers.Dense(10)(x)\n",
        "\n",
        "\n",
        "outputs = x\n",
        "model = keras.Model(inputs=inputs, outputs=outputs)\n"
      ],
      "metadata": {
        "id": "FY4Vor_stigj"
      },
      "execution_count": 7,
      "outputs": []
    },
    {
      "cell_type": "code",
      "source": [
        "x = inputs = keras.Input(shape=(32, 32, 3))\n",
        "#1\n",
        "x = layers.Conv2D(filters=32, kernel_size=3, activation=\"relu\", padding=\"same\")(x)\n",
        "x = layers.Conv2D(filters=32, kernel_size=3, activation=\"relu\", padding=\"same\")(x)\n",
        "x = layers.MaxPooling2D(pool_size=2)(x)\n",
        "#2\n",
        "x = layers.Conv2D(filters=64, kernel_size=3, activation=\"relu\", padding=\"same\")(x)\n",
        "x = layers.Conv2D(filters=64, kernel_size=3, activation=\"relu\", padding=\"same\")(x)\n",
        "x = layers.MaxPooling2D(pool_size=2)(x)\n",
        "#3\n",
        "x = layers.Conv2D(filters=128, kernel_size=3, activation=\"relu\", padding=\"same\")(x)\n",
        "x = layers.Conv2D(filters=128, kernel_size=3, activation=\"relu\", padding=\"same\")(x)\n",
        "x = layers.MaxPooling2D(pool_size=2)(x)\n",
        "#4\n",
        "x = layers.Flatten()(x)\n",
        "x = layers.Dense(128, activation=\"relu\")(x)\n",
        "x = layers.Dense(10)(x)\n",
        "\n",
        "\n",
        "outputs = x\n",
        "model = keras.Model(inputs=inputs, outputs=outputs)\n"
      ],
      "metadata": {
        "id": "6_DKPWL8prOv"
      },
      "execution_count": 11,
      "outputs": []
    },
    {
      "cell_type": "code",
      "source": [],
      "metadata": {
        "id": "XdVYghG1rFqb"
      },
      "execution_count": null,
      "outputs": []
    },
    {
      "cell_type": "code",
      "source": [
        "\n",
        "model.compile(optimizer='adam',\n",
        "              loss=tf.keras.losses.SparseCategoricalCrossentropy(from_logits=True),\n",
        "              metrics=['accuracy'])\n",
        "\n",
        "# An epoch means training the neural network with all the\n",
        "# training data for one cycle. Here I use 10 epochs\n",
        "history = model.fit(train_images, train_labels, epochs=20,\n",
        "                    validation_data=(test_images, test_labels))\n",
        "\n"
      ],
      "metadata": {
        "colab": {
          "base_uri": "https://localhost:8080/"
        },
        "id": "sLX53AERfv4y",
        "outputId": "38c3728e-7836-4eb5-a55b-dbb6698c1cf0"
      },
      "execution_count": 12,
      "outputs": [
        {
          "output_type": "stream",
          "name": "stdout",
          "text": [
            "Epoch 1/20\n",
            "1563/1563 [==============================] - 14s 7ms/step - loss: 1.4411 - accuracy: 0.4710 - val_loss: 1.1673 - val_accuracy: 0.5889\n",
            "Epoch 2/20\n",
            "1563/1563 [==============================] - 10s 7ms/step - loss: 0.9410 - accuracy: 0.6666 - val_loss: 0.9024 - val_accuracy: 0.6889\n",
            "Epoch 3/20\n",
            "1563/1563 [==============================] - 10s 6ms/step - loss: 0.7460 - accuracy: 0.7375 - val_loss: 0.7165 - val_accuracy: 0.7494\n",
            "Epoch 4/20\n",
            "1563/1563 [==============================] - 10s 6ms/step - loss: 0.6264 - accuracy: 0.7805 - val_loss: 0.7591 - val_accuracy: 0.7437\n",
            "Epoch 5/20\n",
            "1563/1563 [==============================] - 10s 6ms/step - loss: 0.5274 - accuracy: 0.8141 - val_loss: 0.7224 - val_accuracy: 0.7558\n",
            "Epoch 6/20\n",
            "1563/1563 [==============================] - 10s 7ms/step - loss: 0.4516 - accuracy: 0.8405 - val_loss: 0.7474 - val_accuracy: 0.7560\n",
            "Epoch 7/20\n",
            "1563/1563 [==============================] - 10s 6ms/step - loss: 0.3799 - accuracy: 0.8643 - val_loss: 0.7568 - val_accuracy: 0.7692\n",
            "Epoch 8/20\n",
            "1563/1563 [==============================] - 10s 6ms/step - loss: 0.3273 - accuracy: 0.8837 - val_loss: 0.8008 - val_accuracy: 0.7666\n",
            "Epoch 9/20\n",
            "1563/1563 [==============================] - 10s 6ms/step - loss: 0.2822 - accuracy: 0.9002 - val_loss: 0.8553 - val_accuracy: 0.7653\n",
            "Epoch 10/20\n",
            "1563/1563 [==============================] - 11s 7ms/step - loss: 0.2452 - accuracy: 0.9136 - val_loss: 0.9086 - val_accuracy: 0.7681\n",
            "Epoch 11/20\n",
            "1563/1563 [==============================] - 11s 7ms/step - loss: 0.2184 - accuracy: 0.9224 - val_loss: 0.9337 - val_accuracy: 0.7705\n",
            "Epoch 12/20\n",
            "1563/1563 [==============================] - 10s 6ms/step - loss: 0.2026 - accuracy: 0.9284 - val_loss: 1.0362 - val_accuracy: 0.7657\n",
            "Epoch 13/20\n",
            "1563/1563 [==============================] - 9s 6ms/step - loss: 0.1865 - accuracy: 0.9358 - val_loss: 1.0787 - val_accuracy: 0.7632\n",
            "Epoch 14/20\n",
            "1563/1563 [==============================] - 10s 6ms/step - loss: 0.1729 - accuracy: 0.9390 - val_loss: 1.1553 - val_accuracy: 0.7649\n",
            "Epoch 15/20\n",
            "1563/1563 [==============================] - 10s 6ms/step - loss: 0.1646 - accuracy: 0.9447 - val_loss: 1.1610 - val_accuracy: 0.7572\n",
            "Epoch 16/20\n",
            "1563/1563 [==============================] - 9s 6ms/step - loss: 0.1577 - accuracy: 0.9466 - val_loss: 1.1907 - val_accuracy: 0.7567\n",
            "Epoch 17/20\n",
            "1563/1563 [==============================] - 10s 6ms/step - loss: 0.1529 - accuracy: 0.9486 - val_loss: 1.2669 - val_accuracy: 0.7632\n",
            "Epoch 18/20\n",
            "1563/1563 [==============================] - 11s 7ms/step - loss: 0.1492 - accuracy: 0.9496 - val_loss: 1.3300 - val_accuracy: 0.7576\n",
            "Epoch 19/20\n",
            "1563/1563 [==============================] - 10s 6ms/step - loss: 0.1412 - accuracy: 0.9532 - val_loss: 1.3360 - val_accuracy: 0.7565\n",
            "Epoch 20/20\n",
            "1563/1563 [==============================] - 9s 6ms/step - loss: 0.1425 - accuracy: 0.9529 - val_loss: 1.3309 - val_accuracy: 0.7576\n"
          ]
        }
      ]
    },
    {
      "cell_type": "code",
      "source": [
        "model.summary()"
      ],
      "metadata": {
        "id": "8UtfKFsZp5Wp",
        "outputId": "f94df613-9464-44af-b9aa-84ec2e654e91",
        "colab": {
          "base_uri": "https://localhost:8080/"
        }
      },
      "execution_count": null,
      "outputs": [
        {
          "output_type": "stream",
          "name": "stdout",
          "text": [
            "Model: \"model\"\n",
            "_________________________________________________________________\n",
            " Layer (type)                Output Shape              Param #   \n",
            "=================================================================\n",
            " input_1 (InputLayer)        [(None, 32, 32, 3)]       0         \n",
            "                                                                 \n",
            " conv2d (Conv2D)             (None, 30, 30, 32)        896       \n",
            "                                                                 \n",
            " max_pooling2d (MaxPooling2  (None, 15, 15, 32)        0         \n",
            " D)                                                              \n",
            "                                                                 \n",
            " conv2d_1 (Conv2D)           (None, 13, 13, 64)        18496     \n",
            "                                                                 \n",
            " max_pooling2d_1 (MaxPoolin  (None, 6, 6, 64)          0         \n",
            " g2D)                                                            \n",
            "                                                                 \n",
            " conv2d_2 (Conv2D)           (None, 4, 4, 64)          36928     \n",
            "                                                                 \n",
            " flatten (Flatten)           (None, 1024)              0         \n",
            "                                                                 \n",
            " dense (Dense)               (None, 64)                65600     \n",
            "                                                                 \n",
            " dense_1 (Dense)             (None, 10)                650       \n",
            "                                                                 \n",
            "=================================================================\n",
            "Total params: 122570 (478.79 KB)\n",
            "Trainable params: 122570 (478.79 KB)\n",
            "Non-trainable params: 0 (0.00 Byte)\n",
            "_________________________________________________________________\n"
          ]
        }
      ]
    },
    {
      "cell_type": "code",
      "source": [
        "plt.plot(history.history['accuracy'],label='accuracy')\n",
        "plt.plot(history.history['val_accuracy'],label = 'val_accuracy')\n",
        "plt.xlabel('Epoch')\n",
        "plt.ylabel('Accuracy')\n",
        "plt.ylim([0.5, 1])\n",
        "plt.legend(loc='lower right')\n",
        "\n",
        "test_loss, test_acc = model.evaluate(test_images,\n",
        "                                     test_labels,\n",
        "                                     verbose=2)"
      ],
      "metadata": {
        "colab": {
          "base_uri": "https://localhost:8080/",
          "height": 473
        },
        "id": "sD24Nv4ziIqq",
        "outputId": "8c0f2503-ecb2-489e-fee9-f273f039dc98"
      },
      "execution_count": 13,
      "outputs": [
        {
          "output_type": "stream",
          "name": "stdout",
          "text": [
            "313/313 - 1s - loss: 1.3309 - accuracy: 0.7576 - 818ms/epoch - 3ms/step\n"
          ]
        },
        {
          "output_type": "display_data",
          "data": {
            "text/plain": [
              "<Figure size 640x480 with 1 Axes>"
            ],
            "image/png": "[encoded data removed]"
          },
          "metadata": {}
        }
      ]
    },
    {
      "cell_type": "markdown",
      "source": [
        ":"
      ],
      "metadata": {
        "id": "EYLJRLCumO1K"
      }
    },
    {
      "cell_type": "code",
      "source": [],
      "metadata": {
        "id": "jRqdBv8sqGYy"
      },
      "execution_count": null,
      "outputs": []
    },
    {
      "cell_type": "code",
      "source": [
        "print('Test Accuracy is',test_acc)"
      ],
      "metadata": {
        "colab": {
          "base_uri": "https://localhost:8080/"
        },
        "id": "6xluhl6NiFSF",
        "outputId": "ad1e71cc-2234-4e9c-d7a6-6e84a80b0b42"
      },
      "execution_count": 14,
      "outputs": [
        {
          "output_type": "stream",
          "name": "stdout",
          "text": [
            "Test Accuracy is 0.7576000094413757\n"
          ]
        }
      ]
    },
    {
      "cell_type": "code",
      "source": [],
      "metadata": {
        "id": "qECuf5P6iLJ7"
      },
      "execution_count": null,
      "outputs": []
    }
  ]
}